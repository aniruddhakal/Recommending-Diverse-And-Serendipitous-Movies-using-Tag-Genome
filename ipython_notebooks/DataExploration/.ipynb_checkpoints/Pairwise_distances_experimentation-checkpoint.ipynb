{
 "cells": [
  {
   "cell_type": "code",
   "execution_count": 49,
   "metadata": {},
   "outputs": [],
   "source": [
    "import numpy as np\n",
    "import pandas as pd\n",
    "import matplotlib.pyplot as plt\n",
    "\n",
    "data_base_dir = '../../../datasets/Movielens/'\n",
    "data_dir = data_base_dir + 'serendipity-sac2018/'\n",
    "data_dir2 = data_base_dir + 'ml-20m/'\n",
    "output_dir = data_dir + 'output/'\n",
    "\n",
    "# genome_scores = data_dir + 'genome_scores.csv'\n",
    "genome_scores = data_dir + 'tag_genome.csv'\n",
    "# genome_tags = data_dir + 'genome-tags.csv'\n",
    "movies = data_dir + 'movies.csv'\n",
    "# ratings = data_dir + 'ratings.csv'\n",
    "ratings = data_dir + 'training.csv'\n",
    "# tags = data_dir + 'tags.csv'\n",
    "answers = data_dir + 'answers.csv'\n",
    "genre_binary_terms = output_dir + 'movie_genre_binary_term_vector_df_bz2'\n",
    "movies_lemmatized = output_dir + 'movies_lemmatized_genome_vector_df_bz2'\n",
    "\n",
    "# answers_df = pd.read_csv(answers)\n",
    "\n",
    "movies_df = pd.read_csv(movies)\n",
    "genre_binary_terms_df = pd.read_pickle(genre_binary_terms, compression='bz2')\n",
    "\n",
    "# data loading and preprocessing\n",
    "genome_scores_df = pd.read_csv(genome_scores).pivot(index='movieId', columns='tagId', values='relevance')\n",
    "genome_scores_df.fillna(0, inplace=True)\n",
    "\n",
    "movie1 = 1\n",
    "movie2 = 2\n",
    "metric='euclidean'"
   ]
  },
  {
   "cell_type": "code",
   "execution_count": 54,
   "metadata": {
    "scrolled": true
   },
   "outputs": [
    {
     "name": "stdout",
     "output_type": "stream",
     "text": [
      "0.2034500311671824\n",
      "5.279326418919368\n",
      "0    Adventure,Animation,Children,Comedy,Fantasy\n",
      "1                     Adventure,Children,Fantasy\n",
      "Name: genres, dtype: object\n"
     ]
    }
   ],
   "source": [
    "# SciPy individual distance\n",
    "from scipy.spatial.distance import cosine, euclidean\n",
    "\n",
    "movie1_vec = genome_scores_df.loc[movie1, :].values\n",
    "movie2_vec = genome_scores_df.loc[movie2, :].values\n",
    "\n",
    "print(cosine(movie1_vec.T, movie2_vec.T))\n",
    "print(euclidean(movie1_vec.T, movie2_vec.T))\n",
    "# movie1_vec\n",
    "\n",
    "print(movies_df[movies_df['movieId'].isin([1, 2])]['genres'])\n",
    "# print()"
   ]
  },
  {
   "cell_type": "code",
   "execution_count": 51,
   "metadata": {},
   "outputs": [
    {
     "data": {
      "text/plain": [
       "0.2254033307585167"
      ]
     },
     "execution_count": 51,
     "metadata": {},
     "output_type": "execute_result"
    }
   ],
   "source": [
    "genre_binary_terms_df\n",
    "movie1_genre_vec = genre_binary_terms_df.loc[movie1, :]\n",
    "movie2_genre_vec = genre_binary_terms_df.loc[movie2, :]\n",
    "\n",
    "cosine(movie1_genre_vec, movie2_genre_vec)\n",
    "# genre_distances_df = pd.DataFrame(pairwise_distances(genre_binary_terms_df), index=genre_binary_terms_df.index, columns=genre_binary_terms_df.index)\n",
    "# genre_distances_df"
   ]
  },
  {
   "cell_type": "code",
   "execution_count": 52,
   "metadata": {
    "scrolled": true
   },
   "outputs": [
    {
     "data": {
      "text/plain": [
       "5.27932641891936"
      ]
     },
     "execution_count": 52,
     "metadata": {},
     "output_type": "execute_result"
    }
   ],
   "source": [
    "# pairwise distances with only x\n",
    "from sklearn.metrics import pairwise_distances\n",
    "\n",
    "distances_with_only_x = pd.DataFrame(pairwise_distances(genome_scores_df, metric=metric), index=genome_scores_df.index, columns=genome_scores_df.index)\n",
    "distances_with_only_x.loc[movie1, movie2]"
   ]
  },
  {
   "cell_type": "code",
   "execution_count": 53,
   "metadata": {},
   "outputs": [
    {
     "data": {
      "text/plain": [
       "5.27932641891936"
      ]
     },
     "execution_count": 53,
     "metadata": {},
     "output_type": "execute_result"
    }
   ],
   "source": [
    "# pairwise distances with x and y\n",
    "from sklearn.metrics import pairwise_distances\n",
    "\n",
    "distances_with_only_x = pd.DataFrame(pairwise_distances(genome_scores_df, genome_scores_df, metric=metric), index=genome_scores_df.index, columns=genome_scores_df.index)\n",
    "distances_with_only_x.loc[movie1, movie2]"
   ]
  },
  {
   "cell_type": "code",
   "execution_count": null,
   "metadata": {},
   "outputs": [],
   "source": []
  },
  {
   "cell_type": "code",
   "execution_count": null,
   "metadata": {},
   "outputs": [],
   "source": []
  }
 ],
 "metadata": {
  "kernelspec": {
   "display_name": "Python 3",
   "language": "python",
   "name": "python3"
  },
  "language_info": {
   "codemirror_mode": {
    "name": "ipython",
    "version": 3
   },
   "file_extension": ".py",
   "mimetype": "text/x-python",
   "name": "python",
   "nbconvert_exporter": "python",
   "pygments_lexer": "ipython3",
   "version": "3.7.1"
  }
 },
 "nbformat": 4,
 "nbformat_minor": 2
}
