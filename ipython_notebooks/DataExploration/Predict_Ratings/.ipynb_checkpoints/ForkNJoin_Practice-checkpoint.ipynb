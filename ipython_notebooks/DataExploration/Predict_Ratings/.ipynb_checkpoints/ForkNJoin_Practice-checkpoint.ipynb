{
 "cells": [
  {
   "cell_type": "code",
   "execution_count": null,
   "metadata": {},
   "outputs": [],
   "source": [
    "from multiprocessing import pool\n",
    "import matplotlib.pyplot as plt\n",
    "import os\n",
    "\n",
    "def plot_list():\n",
    "    the_list = [1,2,3]\n",
    "    fig = plt.figure()\n",
    "    plt.plot(the_list)\n",
    "#     plt.show()\n",
    "    \n",
    "    os._exit(0)\n",
    "    return fig\n",
    "    \n",
    "p = 1\n",
    "\n",
    "# while p < 5:\n",
    "    p += 1\n",
    "#     new_pid = os.fork()\n",
    "#     print(new_pid)\n",
    "    \n",
    "#     if new_pid == 0:\n",
    "fig = plot_list()\n",
    "plt.show()\n",
    "    "
   ]
  },
  {
   "cell_type": "code",
   "execution_count": null,
   "metadata": {},
   "outputs": [],
   "source": []
  }
 ],
 "metadata": {
  "kernelspec": {
   "display_name": "Python 3",
   "language": "python",
   "name": "python3"
  },
  "language_info": {
   "codemirror_mode": {
    "name": "ipython",
    "version": 3
   },
   "file_extension": ".py",
   "mimetype": "text/x-python",
   "name": "python",
   "nbconvert_exporter": "python",
   "pygments_lexer": "ipython3",
   "version": "3.7.1"
  }
 },
 "nbformat": 4,
 "nbformat_minor": 2
}
