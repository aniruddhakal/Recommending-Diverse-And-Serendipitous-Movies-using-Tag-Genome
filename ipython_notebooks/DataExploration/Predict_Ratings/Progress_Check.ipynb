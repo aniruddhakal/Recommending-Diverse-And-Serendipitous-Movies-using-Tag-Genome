{
 "cells": [
  {
   "cell_type": "code",
   "execution_count": 1,
   "metadata": {},
   "outputs": [
    {
     "name": "stdout",
     "output_type": "stream",
     "text": [
      "34763\n",
      "34545\n",
      "69462\n",
      "34486\n"
     ]
    }
   ],
   "source": [
    "import numpy as np\n",
    "import pandas as pd\n",
    "import matplotlib.pyplot as plt\n",
    "from time import time\n",
    "import warnings\n",
    "import sys\n",
    "from sklearn.metrics import pairwise_distances, mean_absolute_error, mean_squared_error\n",
    "import multiprocessing as mp\n",
    "from concurrent.futures import ThreadPoolExecutor, ProcessPoolExecutor\n",
    "\n",
    "import threading\n",
    "\n",
    "data_base_dir = '../../../../datasets/Movielens/'\n",
    "data_dir2 = data_base_dir + 'serendipity-sac2018/'\n",
    "data_dir = data_base_dir + 'ml-20m/'\n",
    "output_dir = data_dir + 'output2/'\n",
    "\n",
    "genome_scores = data_dir + 'genome-scores.csv'\n",
    "# genome_scores = data_dir + 'tag_genome.csv'\n",
    "genome_tags = data_dir + 'genome-tags.csv'\n",
    "movies = data_dir + 'movies.csv'\n",
    "ratings = data_dir + 'ratings.csv'\n",
    "\n",
    "# data loading and preprocessing\n",
    "target_df = pd.read_csv(genome_scores).pivot(index='movieId', columns='tagId',\n",
    "                                             values='relevance')\n",
    "genome_scores_df = pd.DataFrame(pairwise_distances(target_df, metric='cosine'),\n",
    "                                index=target_df.index,\n",
    "                                columns=target_df.index)\n",
    "del target_df\n",
    "\n",
    "movies_with_genome = genome_scores_df.index.values\n",
    "\n",
    "movies_df = pd.read_csv(movies)\n",
    "movies_df = movies_df[movies_df['genres'] != '(no genres listed)']\n",
    "movies_df = movies_df[movies_df['movieId'].isin(movies_with_genome)]\n",
    "del movies_with_genome\n",
    "\n",
    "all_movie_ids = movies_df['movieId'].unique()\n",
    "del movies_df\n",
    "\n",
    "ratings_df = pd.read_csv(ratings)\n",
    "ratings_df = ratings_df[ratings_df['movieId'].isin(all_movie_ids)]\n",
    "ratings_df = ratings_df.loc[:, ['userId', 'movieId', 'rating']]\n",
    "\n",
    "all_user_ids = ratings_df['userId'].unique()\n",
    "count_df = ratings_df.groupby('userId').count()\n",
    "# count_df.describe()\n",
    "\n",
    "# # divide user groups into 4 based on the number of movies watched by them\n",
    "threshold1 = count_df['movieId'] <= 34\n",
    "threshold2 = count_df['movieId'] <= 67\n",
    "threshold3 = count_df['movieId'] <= 154\n",
    "threshold4 = count_df['movieId'] > 154\n",
    "\n",
    "user_group_1 = count_df[threshold1].index.values\n",
    "user_group_2 = count_df[threshold2].index.values\n",
    "user_group_3 = count_df[threshold3].index.values\n",
    "user_group_4 = count_df[threshold4].index.values\n",
    "\n",
    "del count_df\n",
    "\n",
    "user_group_2 = np.setdiff1d(user_group_2, user_group_1)\n",
    "user_group_3 = np.setdiff1d(user_group_3, user_group_2)\n",
    "user_group_4 = np.setdiff1d(user_group_4, user_group_3)\n",
    "\n",
    "print(user_group_1.size)\n",
    "print(user_group_2.size)\n",
    "print(user_group_3.size)\n",
    "print(user_group_4.size)"
   ]
  },
  {
   "cell_type": "code",
   "execution_count": 4,
   "metadata": {},
   "outputs": [],
   "source": [
    "def print_progress(user_group, user_id):\n",
    "    print('Progress %.2f%%' % ((np.where(user_group == user_id)[0][0]/(user_group.size - 1)) * 100))"
   ]
  },
  {
   "cell_type": "code",
   "execution_count": 8,
   "metadata": {},
   "outputs": [
    {
     "name": "stdout",
     "output_type": "stream",
     "text": [
      "Progress 0.23%\n"
     ]
    }
   ],
   "source": [
    "print_progress(user_group_4, 347)"
   ]
  },
  {
   "cell_type": "code",
   "execution_count": null,
   "metadata": {},
   "outputs": [],
   "source": []
  }
 ],
 "metadata": {
  "kernelspec": {
   "display_name": "Python 3",
   "language": "python",
   "name": "python3"
  },
  "language_info": {
   "codemirror_mode": {
    "name": "ipython",
    "version": 3
   },
   "file_extension": ".py",
   "mimetype": "text/x-python",
   "name": "python",
   "nbconvert_exporter": "python",
   "pygments_lexer": "ipython3",
   "version": "3.7.1"
  }
 },
 "nbformat": 4,
 "nbformat_minor": 2
}
