{
 "cells": [
  {
   "cell_type": "code",
   "execution_count": 1,
   "metadata": {},
   "outputs": [],
   "source": [
    "import numpy as np\n",
    "import pandas as pd\n",
    "import matplotlib.pyplot as plt\n",
    "\n",
    "data_base_dir = '../../../datasets/Movielens/'\n",
    "data_dir2 = data_base_dir + 'Movielens Latest/ml-latest/'\n",
    "data_dir = data_base_dir + 'ml-20m/'\n",
    "\n",
    "genome_scores = data_dir + 'genome-scores.csv'\n",
    "genome_tags = data_dir + 'genome-tags.csv'\n",
    "movies = data_dir + 'movies.csv'\n",
    "ratings = data_dir + 'ratings.csv'\n",
    "tags = data_dir + 'tags.csv'\n",
    "\n",
    "\n",
    "'movies_lemmatized_genome_vector_df_bz2'\n",
    "'movies_lemmatized_threshold_0.25_float_movie_genomes_bz2'\n",
    "'movies_lemmatized_threshold_0.35_float_movie_genomes_bz2'\n",
    "'movies_lemmatized_threshold_0.3_float_movie_genomes_bz2'\n",
    "'movies_lemmatized_threshold_0.4_float_movie_genomes_bz2'\n",
    "\n",
    "\n",
    "'threshold_0.25_binary_movie_genomes_bz2'\n",
    "'threshold_0.35_binary_movie_genomes_bz2'\n",
    "'threshold_0.3_binary_movie_genomes_bz2'\n",
    "'threshold_0.4_binary_movie_genomes_bz2'\n",
    "'user_genre_binary_terms_df_bz2'\n",
    "\n",
    "'user_lemmatized_genome_terms_df_gzip'\n",
    "'threshold_0.25_user_lemmatized_genome_terms_df_gzip'\n",
    "\n",
    "'threshold_0.25_float_movie_genomes_bz2'\n",
    "'threshold_0.25_user_full_genome_terms_df_gzip'\n",
    "'threshold_0.35_user_lemmatized_genome_terms_df_gzip'\n",
    "'threshold_0.3_user_lemmatized_genome_terms_df_gzip'\n",
    "'threshold_0.4_user_lemmatized_genome_terms_df_gzip'\n",
    "\n",
    "'threshold_0.35_float_movie_genomes_bz2'\n",
    "'threshold_0.35_user_full_genome_terms_df_gzip'\n",
    "\n",
    "\n",
    "'threshold_0.3_float_movie_genomes_bz2'\n",
    "'threshold_0.3_user_full_genome_terms_df_gzip'\n",
    "\n",
    "'threshold_0.4_float_movie_genomes_bz2'\n",
    "'threshold_0.4_user_full_genome_terms_df_gzip'\n",
    "\n",
    "\n",
    "'user_full_genome_terms_df_gzip'\n",
    "\n",
    "'user_int_terms_df_bz2'\n",
    "\n"
   ]
  }
 ],
 "metadata": {
  "kernelspec": {
   "display_name": "Python 3",
   "language": "python",
   "name": "python3"
  },
  "language_info": {
   "codemirror_mode": {
    "name": "ipython",
    "version": 3
   },
   "file_extension": ".py",
   "mimetype": "text/x-python",
   "name": "python",
   "nbconvert_exporter": "python",
   "pygments_lexer": "ipython3",
   "version": "3.7.1"
  }
 },
 "nbformat": 4,
 "nbformat_minor": 2
}
