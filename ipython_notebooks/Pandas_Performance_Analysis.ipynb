{
 "cells": [
  {
   "cell_type": "code",
   "execution_count": 5,
   "metadata": {},
   "outputs": [],
   "source": [
    "import numpy as np\n",
    "import pandas as pd\n",
    "\n",
    "df = pd.DataFrame(index=list(range(1,10000)))\n",
    "df[0] = ''"
   ]
  },
  {
   "cell_type": "code",
   "execution_count": 28,
   "metadata": {},
   "outputs": [
    {
     "name": "stdout",
     "output_type": "stream",
     "text": [
      "41.6 ms ± 315 µs per loop (mean ± std. dev. of 7 runs, 10 loops each)\n"
     ]
    }
   ],
   "source": [
    "def increment_python(x):\n",
    "    return x + x ** 2 + x ** 3 - x + 2\n",
    "\n",
    "# %prun -l 4 df.apply(lambda x: increment_python(x.name), axis=1)\n",
    "%timeit df.apply(lambda x: increment_python(x.name), axis=1)"
   ]
  },
  {
   "cell_type": "raw",
   "metadata": {},
   "source": [
    "211640 function calls (191616 primitive calls) in 0.087 seconds\n",
    "\n",
    "   Ordered by: internal time\n",
    "   List reduced from 185 to 4 due to restriction <4>\n",
    "\n",
    "   ncalls  tottime  percall  cumtime  percall filename:lineno(function)\n",
    "        1    0.019    0.019    0.086    0.086 {pandas._libs.reduction.reduce}\n",
    "    10005    0.012    0.000    0.039    0.000 series.py:354(_set_axis)\n",
    "     9999    0.011    0.000    0.011    0.000 <ipython-input-25-b02899dedd9d>:1(increment_python)\n",
    "     9999    0.007    0.000    0.020    0.000 managers.py:147(set_axis)"
   ]
  },
  {
   "cell_type": "code",
   "execution_count": 8,
   "metadata": {},
   "outputs": [],
   "source": [
    "%load_ext Cython"
   ]
  },
  {
   "cell_type": "code",
   "execution_count": 26,
   "metadata": {
    "scrolled": true
   },
   "outputs": [],
   "source": [
    "%%cython\n",
    "\n",
    "cpdef int increment_cython(int x):\n",
    "    return x + x ** 2 + x ** 3 - x + 2"
   ]
  },
  {
   "cell_type": "code",
   "execution_count": 30,
   "metadata": {},
   "outputs": [
    {
     "name": "stdout",
     "output_type": "stream",
     "text": [
      " "
     ]
    }
   ],
   "source": [
    "%prun -l 4 df.apply(lambda x: increment_cython(x.name), axis=1)\n",
    "# %timeit df.apply(lambda x: increment_cython(x.name), axis=1)"
   ]
  }
 ],
 "metadata": {
  "kernelspec": {
   "display_name": "Python 3",
   "language": "python",
   "name": "python3"
  },
  "language_info": {
   "codemirror_mode": {
    "name": "ipython",
    "version": 3
   },
   "file_extension": ".py",
   "mimetype": "text/x-python",
   "name": "python",
   "nbconvert_exporter": "python",
   "pygments_lexer": "ipython3",
   "version": "3.6.7"
  }
 },
 "nbformat": 4,
 "nbformat_minor": 2
}
